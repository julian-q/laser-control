{
 "cells": [
  {
   "cell_type": "markdown",
   "metadata": {},
   "source": [
    "# Rotation Mount PID Controller\n",
    "Here we use a Red Pitaya as a PID controller. We want to stabilize the power output of a beam by rotating a half-waveplate. The Red Pitaya takes measures the power of the beam by measuring the analog voltage output of a photo detector hooked up to its SMA analog input 0. Using a PID package to generate the necessary control signal, it then sends serial commands to a motorized rotation mount, which changes how much of the beam is transmitted versus reflected."
   ]
  },
  {
   "cell_type": "code",
   "execution_count": 1,
   "metadata": {
    "collapsed": true,
    "jupyter": {
     "outputs_hidden": true
    }
   },
   "outputs": [],
   "source": [
    "import serial\n",
    "from simple_pid import PID\n",
    "from redpitaya.overlay.mercury import mercury as overlay\n",
    "import numpy as np\n",
    "import time\n",
    "import matplotlib.pyplot as plt"
   ]
  },
  {
   "cell_type": "markdown",
   "metadata": {},
   "source": [
    "## Oscilloscope setup\n",
    "We need a way to measure the analog voltage signal on SMA input 0. Since Red Pitaya doesn't offer a more straightforward way to just measure the the voltage on this line, we take advantage of the built-in oscilloscope API."
   ]
  },
  {
   "cell_type": "code",
   "execution_count": 3,
   "metadata": {},
   "outputs": [
    {
     "name": "stdout",
     "output_type": "stream",
     "text": [
      "Requested overlay is already loaded.\n"
     ]
    }
   ],
   "source": [
    "# Initialize the Red Pitaya's Python \"overlay\", known as mercury. I think they call it an overlay because it just reimplements\n",
    "# the much more complete C API.\n",
    "fpga = overlay()"
   ]
  },
  {
   "cell_type": "code",
   "execution_count": 4,
   "metadata": {},
   "outputs": [],
   "source": [
    "# Create a new oscilloscope.\n",
    "analog_in = 0\n",
    "voltage_range = 20.0 # voltage range can either be 1.0 or 20.0 volts\n",
    "osc0 = fpga.osc(analog_in, voltage_range)"
   ]
  },
  {
   "cell_type": "markdown",
   "metadata": {},
   "source": [
    "How do we use an oscilloscope as a voltmeter? Use a \"forced trigger!\" Instead of designing a trigger to recognize a specific waveform, a forced trigger just takes samples of the voltage signal as is.\n",
    "\n",
    "Oscilloscope properties to specify:\n",
    "1. Sample rate decimation is an integer in range [1, 2\\*\\*17] = [1, 131072].\n",
    "2. Number of voltage samples stored before and after trigger. For a forced trigger, we only care about the samples taken after the trigger.\n",
    "3. Input level trigger source should (depending on the test purpose) be disabled (it is enabled by default)"
   ]
  },
  {
   "cell_type": "code",
   "execution_count": 5,
   "metadata": {
    "collapsed": true,
    "jupyter": {
     "outputs_hidden": true
    },
    "scrolled": true
   },
   "outputs": [],
   "source": [
    "# data rate decimation \n",
    "osc0.decimation = 1\n",
    "\n",
    "# trigger timing [sample periods]\n",
    "N = 100 # must not exceed osc0.buffer_size\n",
    "osc0.trigger_pre  = 0\n",
    "osc0.trigger_post = N\n",
    "\n",
    "# disable hardware trigger sources\n",
    "osc0.trig_src = 0"
   ]
  },
  {
   "cell_type": "markdown",
   "metadata": {},
   "source": [
    "## Measure input voltage\n",
    "The `get_voltage` function uses a forced trigger to measure `N` continuous voltage values from the analog input, and then returns their average."
   ]
  },
  {
   "cell_type": "code",
   "execution_count": 6,
   "metadata": {
    "collapsed": true,
    "jupyter": {
     "outputs_hidden": true
    }
   },
   "outputs": [],
   "source": [
    "def get_voltage():    \n",
    "    # synchronization and trigger sources are the default,\n",
    "    # which is the module itself\n",
    "    osc0.reset()\n",
    "    osc0.start()\n",
    "    osc0.trigger()\n",
    "    # wait for data\n",
    "    while (osc0.status_run()): pass\n",
    "\n",
    "    # show only the part of the buffer requested by pre/post trigger timing\n",
    "    data = osc0.data(N)\n",
    "    \n",
    "    return np.average(data)"
   ]
  },
  {
   "cell_type": "markdown",
   "metadata": {},
   "source": [
    "## Connect to the rotation mount\n",
    "Use the `serial` package to connect to the rotation mount, which is device `ttyUSB0`. We will communicate with the device over serial this way. Specify a timeout of 1 second in the case that we try to read from the device and it does not send a response."
   ]
  },
  {
   "cell_type": "code",
   "execution_count": 20,
   "metadata": {
    "collapsed": true,
    "jupyter": {
     "outputs_hidden": true
    }
   },
   "outputs": [],
   "source": [
    "ser = serial.Serial('/dev/ttyUSB0', timeout=1)"
   ]
  },
  {
   "cell_type": "markdown",
   "metadata": {},
   "source": [
    "## Rotation mount command API\n",
    "The following functions can be used to communicate with the rotation mount over USB. These are just an easier way of issuing the ASCII serial commands documented in the [command interface](https://www.thorlabs.com/drawings/d49baadb9f14fab2-FBA9434D-ADEF-5E8D-B254242CD9FBFC29/ELL6-CommunicationsProtocolManual.pdf) from Thorlabs. The most important commands from this document are `_HOSTREQ_MOVEABSOLUTE` (`ma`), `_HOSTREQ_MOVERELATIVE` (`mr`), and `_HOST_GETPOSITION` (`gp`). \n",
    "\n",
    "Note that each time we send a serial command to the rotation mount, it responds immediately with a message about its current status. This response is read each time using the `ser.readline()` function. Even though the response is not necessarily used, it is still read so as to not back up the RX buffer."
   ]
  },
  {
   "cell_type": "code",
   "execution_count": 67,
   "metadata": {
    "collapsed": true,
    "jupyter": {
     "outputs_hidden": true
    }
   },
   "outputs": [],
   "source": [
    "ENCODER_RESOLUTION = 43.8 * 10**(-6) # radians between each encoder pulse on the rotation mount\n",
    "\n",
    "# Move to an absolute angle, as measured from the Home position. Negative angles are a no-op.\n",
    "def move_to(angle):\n",
    "    # Convert the angle to a 32-bit signed number in hex format.\n",
    "    command = b'0ma%08X\\r\\n' % (int(angle / ENCODER_RESOLUTION) & 0xffffffff)\n",
    "    print(command)\n",
    "    ser.write(command)\n",
    "    response = ser.readline()\n",
    "    \n",
    "# Move by some relative angle, as measured from the current position. Negative angles are a no-op.\n",
    "def move_by(angle):\n",
    "    # Convert the angle to a 32-bit signed number in hex format.\n",
    "    command = b'0mr%08X\\r\\n' % (int(angle / ENCODER_RESOLUTION) & 0xffffffff)\n",
    "    print(command)\n",
    "    ser.write(command)\n",
    "    response = ser.readline()\n",
    "    \n",
    "# Return to the Home position.\n",
    "def go_home():\n",
    "    move_to(0)\n",
    "\n",
    "# Get the current angle of the rotation mount.\n",
    "def get_angle():\n",
    "    command = b'0gp\\r\\n'\n",
    "    ser.write(command)\n",
    "    response = ser.readline()\n",
    "    angle = sign_extend(int('0X' + str(response)[5:-5], 16) & 0xffffffff, 32) * ENCODER_RESOLUTION\n",
    "    return angle\n",
    "\n",
    "# Two's complement sign extension helper for the get_angle() function.\n",
    "# Sign extend a value by a certain number of bits.\n",
    "def sign_extend(value, bits):\n",
    "    sign_bit = 1 << (bits - 1)\n",
    "    return (value & (sign_bit - 1)) - (value & sign_bit)\n",
    "       \n",
    "# Set the speed of the rotation to 0-100%.\n",
    "def set_speed(percent):\n",
    "    percent = np.clip(percent, 0, 100)\n",
    "    command = b'0sv%02x' % int(percent)\n",
    "    ser.write(command)\n",
    "    response = ser.readline()"
   ]
  },
  {
   "cell_type": "markdown",
   "metadata": {},
   "source": [
    "## PID control\n",
    "Run this cell to start the PID feedback loop. It takes advantage of the [`simple-pid`](https://github.com/m-lundberg/simple-pid) python package."
   ]
  },
  {
   "cell_type": "code",
   "execution_count": null,
   "metadata": {},
   "outputs": [],
   "source": [
    "# Choose your desired tunings.\n",
    "k_p, k_i, k_d   = 1, 0, 0\n",
    "\n",
    "# Setpoint voltage corresponding to the desired power of the laser.\n",
    "target_voltage  = 0.2\n",
    "\n",
    "# Amount of time in seconds before each new control value u(t) is calculated and the waveplate is rotated. Each update should\n",
    "# have enough time in between such that the rotation mount duty cycle does not exceed 50% (see manual for details).\n",
    "update_interval = 5\n",
    "\n",
    "# Initialize PID controller.\n",
    "pid = PID(k_p, k_i, k_d, setpoint=target_voltage, sample_time=update_interval)\n",
    "\n",
    "# Use this variable to tell when to move the rotation mount.\n",
    "last_update_time = time.time()\n",
    "\n",
    "# Store voltage at every loop iteration.\n",
    "times = []\n",
    "voltages = []\n",
    "\n",
    "# The PID controller works best when called continuously. See the GitHub page for details.\n",
    "while True:\n",
    "    measured_voltage = get_voltage()\n",
    "    control = pid(measured_voltage)\n",
    "    now = time.time()\n",
    "    \n",
    "    times.append(now)\n",
    "    voltages.append(measured_voltage)\n",
    "    \n",
    "    if (now - last_update_time >= update_interval):\n",
    "        rotation_mount_angle = get_angle()\n",
    "        \n",
    "        # Debug output\n",
    "        print(\"t: %+4f | e(t): %+4f | u(t): %+4f | rotation mount angle: %+4f | y(t): %+4f\" \n",
    "              % (now,\n",
    "                 target_voltage - measured_voltage, \n",
    "                 control, \n",
    "                 rotation_mount_angle, \n",
    "                 measured_voltage))\n",
    "        \n",
    "        # Why don't we just use move_by(control)? It turns out that the rotation mount only supports counter-clockwise rotation\n",
    "        # for the _HOST_MOVEABSOLUTE and _HOST_MOVERELATIVE commands. So, if control is negative, we need to rotate all the way\n",
    "        # around first.\n",
    "        move_to(rotation_mount_angle + control)\n",
    "        last_update_time = now"
   ]
  },
  {
   "cell_type": "code",
   "execution_count": 206,
   "metadata": {},
   "outputs": [
    {
     "data": {
      "image/png": "[encoded data removed]",
      "text/plain": [
       "<matplotlib.figure.Figure at 0xab347450>"
      ]
     },
     "metadata": {},
     "output_type": "display_data"
    }
   ],
   "source": [
    "# Plot voltage over time if you want.\n",
    "fig, ax = plt.subplots()\n",
    "ax.plot(times, voltages)\n",
    "plt.show()"
   ]
  },
  {
   "cell_type": "code",
   "execution_count": null,
   "metadata": {
    "collapsed": true,
    "jupyter": {
     "outputs_hidden": true
    }
   },
   "outputs": [],
   "source": [
    "# Disconnect the rotation mount if needed\n",
    "ser.close()"
   ]
  }
 ],
 "metadata": {
  "kernelspec": {
   "display_name": "Python 3",
   "language": "python",
   "name": "python3"
  },
  "language_info": {
   "codemirror_mode": {
    "name": "ipython",
    "version": 3
   },
   "file_extension": ".py",
   "mimetype": "text/x-python",
   "name": "python",
   "nbconvert_exporter": "python",
   "pygments_lexer": "ipython3",
   "version": "3.8.8"
  }
 },
 "nbformat": 4,
 "nbformat_minor": 4
}
