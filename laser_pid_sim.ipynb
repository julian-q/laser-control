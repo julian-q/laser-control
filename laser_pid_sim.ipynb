{
 "cells": [
  {
   "cell_type": "markdown",
   "metadata": {},
   "source": [
    "# Laser PID Simulation\n",
    "\n",
    "Below are the scripts I used to simulate how the laser power would react to the rotation mount. Full Python implementation of the rotation mount is on a Red Pitaya in the lab and I will post it here soon."
   ]
  },
  {
   "cell_type": "code",
   "execution_count": 11,
   "id": "7a7ff419",
   "metadata": {},
   "outputs": [],
   "source": [
    "import numpy as np\n",
    "import matplotlib.pyplot as plt\n",
    "from simple_pid import PID\n",
    "import time"
   ]
  },
  {
   "cell_type": "code",
   "execution_count": 12,
   "id": "cfcb26e4",
   "metadata": {},
   "outputs": [],
   "source": [
    "def sigmoid(x):\n",
    "  return 1 / (1 + np.exp(-x))"
   ]
  },
  {
   "cell_type": "code",
   "execution_count": 13,
   "id": "a90c4328",
   "metadata": {},
   "outputs": [],
   "source": [
    "def get_voltage(rotation_mount_angle):\n",
    "    polarization_angle = rotation_mount_angle * 2\n",
    "    return np.cos(polarization_angle)**2"
   ]
  },
  {
   "cell_type": "code",
   "execution_count": 105,
   "id": "6cbaa29a",
   "metadata": {
    "scrolled": true
   },
   "outputs": [
    {
     "name": "stdout",
     "output_type": "stream",
     "text": [
      "error: -0.800000 | control: -0.800000 | mount angle: -0.800000 | voltage: +0.000853\n",
      "error: +0.199147 | control: +0.199147 | mount angle: -0.600853 | voltage: +0.130153\n",
      "error: +0.069847 | control: +0.069847 | mount angle: -0.531006 | voltage: +0.237282\n",
      "error: -0.037282 | control: -0.037282 | mount angle: -0.568288 | voltage: +0.176991\n",
      "error: +0.023009 | control: +0.023009 | mount angle: -0.545279 | voltage: +0.213435\n",
      "error: -0.013435 | control: -0.013435 | mount angle: -0.558714 | voltage: +0.191840\n",
      "error: +0.008160 | control: +0.008160 | mount angle: -0.550554 | voltage: +0.204854\n",
      "error: -0.004854 | control: -0.004854 | mount angle: -0.555408 | voltage: +0.197074\n",
      "error: +0.002926 | control: +0.002926 | mount angle: -0.552482 | voltage: +0.201750\n",
      "error: -0.001750 | control: -0.001750 | mount angle: -0.554232 | voltage: +0.198948\n",
      "error: +0.001052 | control: +0.001052 | mount angle: -0.553181 | voltage: +0.200631\n",
      "error: -0.000631 | control: -0.000631 | mount angle: -0.553811 | voltage: +0.199621\n",
      "error: +0.000379 | control: +0.000379 | mount angle: -0.553432 | voltage: +0.200227\n",
      "error: -0.000227 | control: -0.000227 | mount angle: -0.553660 | voltage: +0.199864\n"
     ]
    }
   ],
   "source": [
    "Kp, Ki, Kd = 1, 0, 0\n",
    "update_interval = 3\n",
    "pid = PID(Kp, Ki, Kd, setpoint=0.2, sample_time=update_interval)\n",
    "rotation_mount_angle = 0\n",
    "start_time = time.time()\n",
    "last_update_time = time.time()\n",
    "times = []\n",
    "voltages = []\n",
    "\n",
    "while time.time() - start_time < 45:\n",
    "    measured_voltage = get_voltage(rotation_mount_angle)\n",
    "    control = pid(measured_voltage)\n",
    "    \n",
    "    times.append(time.time())\n",
    "    voltages.append(measured_voltage)\n",
    "    \n",
    "    if (time.time() - last_update_time >= update_interval):\n",
    "        rotation_mount_angle += control\n",
    "        print(\"error: %+4f | control: %+4f | mount angle: %+4f | voltage: %+4f\" \n",
    "              % (pid.setpoint - measured_voltage, \n",
    "                 control, \n",
    "                 rotation_mount_angle, \n",
    "                 get_voltage(rotation_mount_angle)))\n",
    "        last_update_time = time.time()\n",
    "    \n",
    "    "
   ]
  },
  {
   "cell_type": "code",
   "execution_count": 106,
   "id": "aa90eded",
   "metadata": {
    "scrolled": true
   },
   "outputs": [
    {
     "data": {
      "image/png": "[encoded data removed]",
      "text/plain": [
       "<Figure size 432x288 with 1 Axes>"
      ]
     },
     "metadata": {
      "needs_background": "light"
     },
     "output_type": "display_data"
    }
   ],
   "source": [
    "fig, ax = plt.subplots()\n",
    "ax.plot(times, voltages)\n",
    "plt.show()"
   ]
  }
 ],
 "metadata": {
  "kernelspec": {
   "display_name": "Python 3",
   "language": "python",
   "name": "python3"
  },
  "language_info": {
   "codemirror_mode": {
    "name": "ipython",
    "version": 3
   },
   "file_extension": ".py",
   "mimetype": "text/x-python",
   "name": "python",
   "nbconvert_exporter": "python",
   "pygments_lexer": "ipython3",
   "version": "3.8.8"
  }
 },
 "nbformat": 4,
 "nbformat_minor": 5
}
